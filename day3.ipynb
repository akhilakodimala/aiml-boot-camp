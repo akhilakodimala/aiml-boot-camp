{
 "cells": [
  {
   "cell_type": "code",
   "execution_count": 3,
   "metadata": {},
   "outputs": [
    {
     "name": "stdout",
     "output_type": "stream",
     "text": [
      "Addition of 2 numbers is 15\n",
      "Sub of 2 numbers is 5\n"
     ]
    }
   ],
   "source": [
    "#class & object\n",
    "class CO:\n",
    "    def subn(self,a,b):   #self-currentclass\n",
    "        return a-b\n",
    "    def addn(self,a,b):\n",
    "        return a+b\n",
    "obj=CO()\n",
    "print(\"Addition of 2 numbers is\",obj.addn(10,5))\n",
    "print(\"Sub of 2 numbers is\",obj.subn(10,5))"
   ]
  },
  {
   "cell_type": "code",
   "execution_count": 5,
   "metadata": {},
   "outputs": [
    {
     "name": "stdout",
     "output_type": "stream",
     "text": [
      "Addition of 2 numbers is 15\n",
      "Sub of 2 numbers is 5\n",
      "multiplication of 2 numbers is 50\n",
      "division of 2 numbers is 2.0\n",
      "moddivision of 2 numbers is 2\n",
      "power of 2 numbers is 100000\n"
     ]
    }
   ],
   "source": [
    "class arithematic:\n",
    "    def subn(self,a,b):   \n",
    "        return a-b\n",
    "    def addn(self,a,b):\n",
    "        return a+b\n",
    "    def muln(self,a,b):   \n",
    "        return a*b\n",
    "    def divn(self,a,b):\n",
    "        return a/b\n",
    "    def modn(self,a,b):   \n",
    "        return a//b\n",
    "    def pown(self,a,b):\n",
    "        return a**b\n",
    "obj=arithematic()\n",
    "obj1=arithematic()\n",
    "print(\"Addition of 2 numbers is\",obj.addn(10,5))\n",
    "print(\"Sub of 2 numbers is\",obj.subn(10,5))\n",
    "print(\"multiplication of 2 numbers is\",obj.muln(10,5))\n",
    "print(\"division of 2 numbers is\",obj1.divn(10,5))\n",
    "print(\"moddivision of 2 numbers is\",obj1.modn(10,5))\n",
    "print(\"power of 2 numbers is\",obj1.pown(10,5))"
   ]
  },
  {
   "cell_type": "code",
   "execution_count": 11,
   "metadata": {},
   "outputs": [
    {
     "name": "stdout",
     "output_type": "stream",
     "text": [
      "cat makes soundMEOW\n"
     ]
    }
   ],
   "source": [
    "#inheritance-acquiring some properties\n",
    "\n",
    "\n",
    "#single inheritance\n",
    "class animal:\n",
    "    def animal_sounds(self):\n",
    "        return \"makes sound\"\n",
    "class cat(animal):\n",
    "    def cat_sounds(self):\n",
    "        return self.animal_sounds()+\"MEOW\"\n",
    "    def __str__(self):\n",
    "        return \"cat\"\n",
    "    \n",
    "catobj=cat()\n",
    "print(catobj,catobj.cat_sounds())\n",
    "    "
   ]
  },
  {
   "cell_type": "code",
   "execution_count": 18,
   "metadata": {},
   "outputs": [
    {
     "name": "stdout",
     "output_type": "stream",
     "text": [
      "cat makes soundMEOW\n",
      "<__main__.dog object at 0x0000021F61AC2310> makes soundBOW\n"
     ]
    }
   ],
   "source": [
    "class animal:\n",
    "    def animal_sounds(self):\n",
    "        return \"makes sound\"\n",
    "class cat(animal):\n",
    "    def cat_sounds(self):\n",
    "        return self.animal_sounds()+\"MEOW\"\n",
    "    def __str__(self):\n",
    "        return \"cat\"\n",
    "    \n",
    "class dog(animal):\n",
    "    def dog_sounds(self):\n",
    "        return self.animal_sounds()+\"BOW\"\n",
    "class dogcolor(dog):\n",
    "    def __str__(self):\n",
    "        return \"dog\"\n",
    "    \n",
    "    \n",
    "catobj=cat()\n",
    "print(catobj,catobj.cat_sounds())\n",
    "dogobj=dog()\n",
    "print(dogobj,dogobj.dog_sounds())\n",
    "        "
   ]
  },
  {
   "cell_type": "code",
   "execution_count": 13,
   "metadata": {},
   "outputs": [
    {
     "name": "stdout",
     "output_type": "stream",
     "text": [
      "cat makes soundMEOW\n",
      "cat color is black\n"
     ]
    }
   ],
   "source": [
    "class animal:\n",
    "    def animal_sounds(self):\n",
    "        return \"makes sound\"\n",
    "class cat(animal):\n",
    "    def cat_sounds(self):\n",
    "        return self.animal_sounds()+\"MEOW\"\n",
    "class catcolor(cat):\n",
    "    def __str__(self):\n",
    "        return \"cat\"\n",
    "    def color(self):\n",
    "        return \"color is black\"\n",
    "catcolor=catcolor()\n",
    "print(catcolor,catcolor.cat_sounds())\n",
    "print(catcolor,catcolor.color())\n"
   ]
  },
  {
   "cell_type": "code",
   "execution_count": 16,
   "metadata": {},
   "outputs": [
    {
     "name": "stdout",
     "output_type": "stream",
     "text": [
      "dog makes soundBOW\n",
      "dog color is brown\n"
     ]
    }
   ],
   "source": [
    "class animal:\n",
    "    def animal_sounds(self):\n",
    "        return \"makes sound\"\n",
    "class dog(animal):\n",
    "    def dog_sounds(self):\n",
    "        return self.animal_sounds()+\"BOW\"\n",
    "class dogcolor(dog):\n",
    "    def __str__(self):\n",
    "        return \"dog\"\n",
    "    def color(self):\n",
    "        return \"color is brown\"\n",
    "dogcolor=dogcolor()\n",
    "print(dogcolor,dogcolor.dog_sounds())\n",
    "print(dogcolor,dogcolor.color())\n"
   ]
  },
  {
   "cell_type": "code",
   "execution_count": 19,
   "metadata": {},
   "outputs": [
    {
     "ename": "NameError",
     "evalue": "name 'x' is not defined",
     "output_type": "error",
     "traceback": [
      "\u001b[1;31m---------------------------------------------------------------------------\u001b[0m",
      "\u001b[1;31mNameError\u001b[0m                                 Traceback (most recent call last)",
      "\u001b[1;32m<ipython-input-19-28624c99ca8b>\u001b[0m in \u001b[0;36m<module>\u001b[1;34m\u001b[0m\n\u001b[0;32m      1\u001b[0m \u001b[1;31m#exception\u001b[0m\u001b[1;33m\u001b[0m\u001b[1;33m\u001b[0m\u001b[1;33m\u001b[0m\u001b[0m\n\u001b[0;32m      2\u001b[0m \u001b[1;31m#name error\u001b[0m\u001b[1;33m\u001b[0m\u001b[1;33m\u001b[0m\u001b[1;33m\u001b[0m\u001b[0m\n\u001b[1;32m----> 3\u001b[1;33m \u001b[0mprint\u001b[0m\u001b[1;33m(\u001b[0m\u001b[0mx\u001b[0m\u001b[1;33m)\u001b[0m\u001b[1;33m\u001b[0m\u001b[1;33m\u001b[0m\u001b[0m\n\u001b[0m",
      "\u001b[1;31mNameError\u001b[0m: name 'x' is not defined"
     ]
    }
   ],
   "source": [
    "#exception\n",
    "#name error\n",
    "print(x)"
   ]
  },
  {
   "cell_type": "code",
   "execution_count": 20,
   "metadata": {},
   "outputs": [
    {
     "name": "stdout",
     "output_type": "stream",
     "text": [
      "exception occured name 'x' is not defined\n",
      "excecuted\n"
     ]
    }
   ],
   "source": [
    "#name\n",
    "try:\n",
    "    print(x)\n",
    "except NameError as ne:\n",
    "    print(\"exception occured\",ne)\n",
    "print(\"excecuted\")"
   ]
  },
  {
   "cell_type": "code",
   "execution_count": 21,
   "metadata": {},
   "outputs": [
    {
     "ename": "ValueError",
     "evalue": "invalid literal for int() with base 10: '25 xyz'",
     "output_type": "error",
     "traceback": [
      "\u001b[1;31m---------------------------------------------------------------------------\u001b[0m",
      "\u001b[1;31mValueError\u001b[0m                                Traceback (most recent call last)",
      "\u001b[1;32m<ipython-input-21-d7f61ebe063d>\u001b[0m in \u001b[0;36m<module>\u001b[1;34m\u001b[0m\n\u001b[0;32m      1\u001b[0m \u001b[1;31m#value error\u001b[0m\u001b[1;33m\u001b[0m\u001b[1;33m\u001b[0m\u001b[1;33m\u001b[0m\u001b[0m\n\u001b[0;32m      2\u001b[0m \u001b[0ma\u001b[0m\u001b[1;33m=\u001b[0m\u001b[1;34m\"25 xyz\"\u001b[0m\u001b[1;33m\u001b[0m\u001b[1;33m\u001b[0m\u001b[0m\n\u001b[1;32m----> 3\u001b[1;33m \u001b[0mprint\u001b[0m\u001b[1;33m(\u001b[0m\u001b[0mint\u001b[0m\u001b[1;33m(\u001b[0m\u001b[0ma\u001b[0m\u001b[1;33m)\u001b[0m\u001b[1;33m)\u001b[0m\u001b[1;33m\u001b[0m\u001b[1;33m\u001b[0m\u001b[0m\n\u001b[0m",
      "\u001b[1;31mValueError\u001b[0m: invalid literal for int() with base 10: '25 xyz'"
     ]
    }
   ],
   "source": [
    "#value error\n",
    "a=\"25 xyz\"\n",
    "print(int(a))"
   ]
  },
  {
   "cell_type": "code",
   "execution_count": 22,
   "metadata": {},
   "outputs": [
    {
     "name": "stdout",
     "output_type": "stream",
     "text": [
      "invalid literal for int() with base 10: '25 xyz'\n"
     ]
    }
   ],
   "source": [
    "#valueerror\n",
    "a='25 xyz'\n",
    "try:\n",
    "    print(int(a))\n",
    "except ValueError as e:\n",
    "    print(e)"
   ]
  },
  {
   "cell_type": "code",
   "execution_count": 3,
   "metadata": {},
   "outputs": [
    {
     "name": "stdout",
     "output_type": "stream",
     "text": [
      "Enter2003\n",
      "details verified\n"
     ]
    }
   ],
   "source": [
    "#exception handling\n",
    "class INVALIDSTUDENTID(Exception):\n",
    "    def __str__(self):\n",
    "        return \"Error raise\"\n",
    "    pass\n",
    "stid=input(\"Enter\")\n",
    "try:\n",
    "    if stid[:4]!='2003':\n",
    "        raise INVALIDSTUDENTID\n",
    "except INVALIDSTUDENTID as invalid:\n",
    "    print(invalid)\n",
    "print(\"details verified\")"
   ]
  },
  {
   "cell_type": "code",
   "execution_count": 6,
   "metadata": {},
   "outputs": [
    {
     "name": "stdout",
     "output_type": "stream",
     "text": [
      "Enter  age:18\n",
      "Vote accepted\n"
     ]
    }
   ],
   "source": [
    "class INVALIDSTUDENTID(Exception):\n",
    "    pass\n",
    "a=int(input(\"Enter  age:\"))\n",
    "try:\n",
    "    if a<18:\n",
    "        raise INVALIDSTUDENTID\n",
    "    else:\n",
    "        print(\"Vote accepted\")\n",
    "except INVALIDSTUDENTID: \n",
    "    print(\"under age\")"
   ]
  },
  {
   "cell_type": "code",
   "execution_count": 7,
   "metadata": {},
   "outputs": [
    {
     "ename": "FileExistsError",
     "evalue": "[Errno 17] File exists: 'sample.txt'",
     "output_type": "error",
     "traceback": [
      "\u001b[1;31m---------------------------------------------------------------------------\u001b[0m",
      "\u001b[1;31mFileExistsError\u001b[0m                           Traceback (most recent call last)",
      "\u001b[1;32m<ipython-input-7-0bfe56dde493>\u001b[0m in \u001b[0;36m<module>\u001b[1;34m\u001b[0m\n\u001b[1;32m----> 1\u001b[1;33m \u001b[0mf\u001b[0m\u001b[1;33m=\u001b[0m\u001b[0mopen\u001b[0m\u001b[1;33m(\u001b[0m\u001b[1;34m\"sample.txt\"\u001b[0m\u001b[1;33m,\u001b[0m\u001b[1;34m\"x\"\u001b[0m\u001b[1;33m)\u001b[0m\u001b[1;33m\u001b[0m\u001b[1;33m\u001b[0m\u001b[0m\n\u001b[0m",
      "\u001b[1;31mFileExistsError\u001b[0m: [Errno 17] File exists: 'sample.txt'"
     ]
    }
   ],
   "source": [
    "f=open(\"sample.txt\",\"x\")"
   ]
  },
  {
   "cell_type": "code",
   "execution_count": 8,
   "metadata": {},
   "outputs": [],
   "source": [
    "f=open(\"sample.txt\",\"w\")\n",
    "f.write(\"WELCOME\")\n",
    "f.close()"
   ]
  },
  {
   "cell_type": "code",
   "execution_count": 9,
   "metadata": {},
   "outputs": [
    {
     "name": "stdout",
     "output_type": "stream",
     "text": [
      "WELCOME\n"
     ]
    }
   ],
   "source": [
    "f=open(\"sample.txt\",\"r\")\n",
    "print(f.read())\n",
    "f.close()"
   ]
  },
  {
   "cell_type": "code",
   "execution_count": 10,
   "metadata": {},
   "outputs": [],
   "source": [
    "#import os\n",
    "#os.remove(\"sample.txt\")''"
   ]
  },
  {
   "cell_type": "code",
   "execution_count": 11,
   "metadata": {},
   "outputs": [
    {
     "name": "stdout",
     "output_type": "stream",
     "text": [
      "WEL\n",
      "3\n",
      "2\n",
      "0\n",
      "WELCOME\n",
      "[]\n"
     ]
    }
   ],
   "source": [
    "f=open(\"sample.txt\",\"r\")\n",
    "print(f.read(3))#reads until 3 \n",
    "print(f.tell())#tells where cursor is\n",
    "print(f.seek(2))\n",
    "print(f.seek(0))\n",
    "print(f.readline())\n",
    "print(f.readlines())"
   ]
  },
  {
   "cell_type": "code",
   "execution_count": 12,
   "metadata": {},
   "outputs": [
    {
     "ename": "FileExistsError",
     "evalue": "[Errno 17] File exists: 'f1.txt'",
     "output_type": "error",
     "traceback": [
      "\u001b[1;31m---------------------------------------------------------------------------\u001b[0m",
      "\u001b[1;31mFileExistsError\u001b[0m                           Traceback (most recent call last)",
      "\u001b[1;32m<ipython-input-12-0867ce280e5d>\u001b[0m in \u001b[0;36m<module>\u001b[1;34m\u001b[0m\n\u001b[0;32m      1\u001b[0m \u001b[1;31m#copy padte\u001b[0m\u001b[1;33m\u001b[0m\u001b[1;33m\u001b[0m\u001b[1;33m\u001b[0m\u001b[0m\n\u001b[1;32m----> 2\u001b[1;33m \u001b[0mf1\u001b[0m\u001b[1;33m=\u001b[0m\u001b[0mopen\u001b[0m\u001b[1;33m(\u001b[0m\u001b[1;34m\"f1.txt\"\u001b[0m\u001b[1;33m,\u001b[0m\u001b[1;34m\"x\"\u001b[0m\u001b[1;33m)\u001b[0m\u001b[1;33m\u001b[0m\u001b[1;33m\u001b[0m\u001b[0m\n\u001b[0m\u001b[0;32m      3\u001b[0m \u001b[0mf2\u001b[0m\u001b[1;33m=\u001b[0m\u001b[0mopen\u001b[0m\u001b[1;33m(\u001b[0m\u001b[1;34m\"f2.txt\"\u001b[0m\u001b[1;33m,\u001b[0m\u001b[1;34m\"x\"\u001b[0m\u001b[1;33m)\u001b[0m\u001b[1;33m\u001b[0m\u001b[1;33m\u001b[0m\u001b[0m\n",
      "\u001b[1;31mFileExistsError\u001b[0m: [Errno 17] File exists: 'f1.txt'"
     ]
    }
   ],
   "source": [
    "#copy padte\n",
    "f1=open(\"f1.txt\",\"x\")\n",
    "f2=open(\"f2.txt\",\"x\")\n"
   ]
  },
  {
   "cell_type": "code",
   "execution_count": 13,
   "metadata": {},
   "outputs": [],
   "source": [
    "f1=open(\"f1.txt\",\"w\")\n",
    "f1.write(\"COPYPASTE\")\n",
    "f1.close()"
   ]
  },
  {
   "cell_type": "code",
   "execution_count": 15,
   "metadata": {},
   "outputs": [
    {
     "name": "stdout",
     "output_type": "stream",
     "text": [
      "COPYPASTE\n",
      "COPYPASTE\n"
     ]
    }
   ],
   "source": [
    "f1=open(\"f1.txt\",\"r\")\n",
    "temp=f1.read()\n",
    "f1.close\n",
    "\n",
    "f2=open(\"f2.txt\",\"w\")\n",
    "f2.write(temp)\n",
    "f2.close\n",
    "\n",
    "f1=open(\"f1.txt\",\"r\")\n",
    "f2=open(\"f2.txt\",\"r\")\n",
    "print(f1.read())\n",
    "print(f2.read())\n",
    "f1.close()\n",
    "f2.close()\n"
   ]
  },
  {
   "cell_type": "code",
   "execution_count": 16,
   "metadata": {},
   "outputs": [
    {
     "name": "stdout",
     "output_type": "stream",
     "text": [
      "['a', 'b', 'c', 'd']\n"
     ]
    }
   ],
   "source": [
    "#pickle\n",
    "#pickling\n",
    "import pickle\n",
    "mylist=['a','b','c','d']\n",
    "f3=open(\"datafile1.txt\",\"wb\")\n",
    "pickle.dump(mylist,f3)\n",
    "f3.close()\n",
    "\n",
    "#unpickling\n",
    "import pickle\n",
    "pickle_off=open(\"datafile1.txt\",\"rb\")\n",
    "e=pickle.load(pickle_off)\n",
    "print(e)"
   ]
  },
  {
   "cell_type": "code",
   "execution_count": 17,
   "metadata": {},
   "outputs": [
    {
     "name": "stdout",
     "output_type": "stream",
     "text": [
      "['a', 'b', 'c', 'd']\n"
     ]
    }
   ],
   "source": [
    "import pickle\n",
    "mylist=['a','b','c','d']\n",
    "with open(\"datafile2.txt\",\"wb\") as f4:\n",
    "    pickle.dump(mylist,f4)\n",
    "\n",
    "#unpickling\n",
    "import pickle\n",
    "pickle_off=open(\"datafile1.txt\",\"rb\")\n",
    "e=pickle.load(pickle_off)\n",
    "print(e)"
   ]
  },
  {
   "cell_type": "code",
   "execution_count": 18,
   "metadata": {},
   "outputs": [
    {
     "name": "stdout",
     "output_type": "stream",
     "text": [
      "MATCHING\n"
     ]
    }
   ],
   "source": [
    "#regular expression\n",
    "import re\n",
    "pattern=r\"cookie\"\n",
    "sequence=(\"cookie\")\n",
    "if re.match(pattern,sequence):\n",
    "    print(\"MATCHING\")\n",
    "else:\n",
    "    print(\"NOT A MATCH\")"
   ]
  },
  {
   "cell_type": "code",
   "execution_count": 63,
   "metadata": {},
   "outputs": [
    {
     "name": "stdout",
     "output_type": "stream",
     "text": [
      "enter a mobile number=2447658656765\n",
      "2447658656\n"
     ]
    }
   ],
   "source": [
    "import re\n",
    "ph_no=input(\"enter a mobile number=\")\n",
    "print(re.search(r'\\d{10}',ph_no).group())"
   ]
  },
  {
   "cell_type": "code",
   "execution_count": 65,
   "metadata": {},
   "outputs": [
    {
     "name": "stdout",
     "output_type": "stream",
     "text": [
      "enter a mailakhila@gmail.com\n",
      "akhila@gmail.com\n"
     ]
    }
   ],
   "source": [
    "mail=input(\"enter a mail\")\n",
    "str1=r'[A-Za-z0-9.-]+@[A-Za-z0-9.-]+[A-Z|a-z]{2}'\n",
    "print(re.search(str1,mail).group())"
   ]
  },
  {
   "cell_type": "code",
   "execution_count": null,
   "metadata": {},
   "outputs": [],
   "source": []
  },
  {
   "cell_type": "code",
   "execution_count": null,
   "metadata": {},
   "outputs": [],
   "source": []
  },
  {
   "cell_type": "code",
   "execution_count": null,
   "metadata": {},
   "outputs": [],
   "source": []
  },
  {
   "cell_type": "code",
   "execution_count": null,
   "metadata": {},
   "outputs": [],
   "source": []
  },
  {
   "cell_type": "code",
   "execution_count": null,
   "metadata": {},
   "outputs": [],
   "source": []
  },
  {
   "cell_type": "code",
   "execution_count": null,
   "metadata": {},
   "outputs": [],
   "source": []
  },
  {
   "cell_type": "code",
   "execution_count": null,
   "metadata": {},
   "outputs": [],
   "source": []
  }
 ],
 "metadata": {
  "kernelspec": {
   "display_name": "Python 3",
   "language": "python",
   "name": "python3"
  },
  "language_info": {
   "codemirror_mode": {
    "name": "ipython",
    "version": 3
   },
   "file_extension": ".py",
   "mimetype": "text/x-python",
   "name": "python",
   "nbconvert_exporter": "python",
   "pygments_lexer": "ipython3",
   "version": "3.8.5"
  }
 },
 "nbformat": 4,
 "nbformat_minor": 4
}
