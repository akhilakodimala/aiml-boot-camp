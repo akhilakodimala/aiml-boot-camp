{
 "cells": [
  {
   "cell_type": "code",
   "execution_count": null,
   "metadata": {},
   "outputs": [],
   "source": [
    "f=open(\"task.txt\",\"x\")"
   ]
  },
  {
   "cell_type": "code",
   "execution_count": 5,
   "metadata": {},
   "outputs": [
    {
     "name": "stdout",
     "output_type": "stream",
     "text": [
      "Apple\n",
      "Ball\n",
      "cat\n",
      "Dog\n",
      "Ant\n",
      "Bat\n",
      "Banana\n",
      "Bombay\n"
     ]
    }
   ],
   "source": [
    "f=open(\"task.txt\",\"w\")\n",
    "f.write(\"Apple\\nBall\\ncat\\nDog\\nAnt\\nBat\\nBanana\\nBombay\")\n",
    "f.close()\n",
    "f=open(\"task.txt\",\"r\")\n",
    "print(f.read())\n",
    "f.close()"
   ]
  },
  {
   "cell_type": "code",
   "execution_count": 6,
   "metadata": {},
   "outputs": [
    {
     "name": "stdout",
     "output_type": "stream",
     "text": [
      "enter : A\n",
      "\n",
      "Words starts with  A\n",
      "Apple\n",
      "Ant\n"
     ]
    }
   ],
   "source": [
    "letter=input(\"enter : \")\n",
    "with open(\"task.txt\",'r') as x:      \n",
    "    print(\"\\nWords starts with \",letter)\n",
    "    for i in x:\n",
    "        for y in i.split():\n",
    "            \n",
    "            if y.startswith(letter,0):\n",
    "                print(y)"
   ]
  },
  {
   "cell_type": "code",
   "execution_count": null,
   "metadata": {},
   "outputs": [],
   "source": []
  },
  {
   "cell_type": "code",
   "execution_count": null,
   "metadata": {},
   "outputs": [],
   "source": []
  }
 ],
 "metadata": {
  "kernelspec": {
   "display_name": "Python 3",
   "language": "python",
   "name": "python3"
  },
  "language_info": {
   "codemirror_mode": {
    "name": "ipython",
    "version": 3
   },
   "file_extension": ".py",
   "mimetype": "text/x-python",
   "name": "python",
   "nbconvert_exporter": "python",
   "pygments_lexer": "ipython3",
   "version": "3.8.5"
  }
 },
 "nbformat": 4,
 "nbformat_minor": 4
}
