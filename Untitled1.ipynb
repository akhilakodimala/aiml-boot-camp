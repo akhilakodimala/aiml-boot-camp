{
 "cells": [
  {
   "cell_type": "code",
   "execution_count": 14,
   "metadata": {},
   "outputs": [
    {
     "name": "stdout",
     "output_type": "stream",
     "text": [
      " StRInG MeThOdS \n",
      " STRING METHODS \n",
      " string methods \n",
      " sTriNg mEtHoDs \n",
      " String Methods \n",
      " string methods \n",
      "StRInG MeThOdS\n",
      "StRInG MeThOdS \n",
      " StRInG MeThOdS\n"
     ]
    }
   ],
   "source": [
    "#1\n",
    "str=' StRInG MeThOdS '\n",
    "print(str)\n",
    "#string methods\n",
    "print(str.upper())\n",
    "print(str.lower())\n",
    "print(str.swapcase())\n",
    "print(str.title())\n",
    "print(str.capitalize())\n",
    "print(str.strip())\n",
    "print(str.lstrip())\n",
    "print(str.rstrip())"
   ]
  },
  {
   "cell_type": "code",
   "execution_count": 15,
   "metadata": {},
   "outputs": [
    {
     "name": "stdout",
     "output_type": "stream",
     "text": [
      "[1, 2, 3]\n",
      "[1, 2, 3, 4]\n",
      "[1, 2, 3, 4, 5, 6, 7]\n",
      "[1, 2, 3, 4, 5, 6, 7, 9]\n",
      "[1, 2, 3, 4, 6, 7, 9]\n",
      "[3, 4, 6, 7, 9]\n",
      "[4, 6, 7, 9]\n",
      "[4, 6, 9]\n",
      "[]\n"
     ]
    }
   ],
   "source": [
    "#2\n",
    "lis=[1,2,3]\n",
    "print(lis)\n",
    "\n",
    "lis.append(4)\n",
    "print(lis)\n",
    "\n",
    "lis.extend([5,6,7])\n",
    "print(lis)\n",
    "\n",
    "lis.insert(7,9)\n",
    "print(lis)\n",
    "\n",
    "del lis[4]\n",
    "print(lis)\n",
    "\n",
    "del lis[0:2]\n",
    "print(lis)\n",
    "\n",
    "lis.remove(3)\n",
    "print(lis)\n",
    "\n",
    "lis.pop(2)\n",
    "print(lis)\n",
    "\n",
    "lis.clear()\n",
    "print(lis)\n"
   ]
  },
  {
   "cell_type": "code",
   "execution_count": 16,
   "metadata": {},
   "outputs": [
    {
     "name": "stdout",
     "output_type": "stream",
     "text": [
      "(1, 2, 3, 4, 5)\n",
      "1\n",
      "1\n",
      "1\n",
      "5\n",
      "5\n"
     ]
    }
   ],
   "source": [
    "#3\n",
    "mytup=(1,2,3,4,5)\n",
    "print(mytup)\n",
    "print(mytup.count(1))\n",
    "print(mytup.index(2))\n",
    "print(min(mytup))\n",
    "print(max(mytup))\n",
    "print(len(mytup))"
   ]
  },
  {
   "cell_type": "code",
   "execution_count": 17,
   "metadata": {},
   "outputs": [
    {
     "name": "stdout",
     "output_type": "stream",
     "text": [
      "{1, 3, 5}\n",
      "{1, 2, 3, 5}\n",
      "{1, 2, 3, 4, 5}\n",
      "{1, 2, 4, 5}\n",
      "{1, 2, 5}\n"
     ]
    }
   ],
   "source": [
    "#4\n",
    "myset={1,3,5}\n",
    "print(myset)\n",
    "myset.add(2)\n",
    "print(myset)\n",
    "\n",
    "myset.update([2,3,4])\n",
    "print(myset)\n",
    "\n",
    "myset.discard(3)\n",
    "print(myset)\n",
    "\n",
    "myset.remove(4)\n",
    "print(myset)"
   ]
  },
  {
   "cell_type": "code",
   "execution_count": 18,
   "metadata": {},
   "outputs": [
    {
     "name": "stdout",
     "output_type": "stream",
     "text": [
      "akhi\n",
      "dict_keys(['name', 'phno', 'address'])\n",
      "dict_values(['akhi', 59656262626, 'kmr'])\n"
     ]
    }
   ],
   "source": [
    "#5\n",
    "mydict={'name':'akhi','phno':59656262626,'address':'kmr'}\n",
    "print(mydict['name'])\n",
    "print(mydict.keys())\n",
    "print(mydict.values())"
   ]
  },
  {
   "cell_type": "code",
   "execution_count": null,
   "metadata": {},
   "outputs": [],
   "source": []
  },
  {
   "cell_type": "code",
   "execution_count": 19,
   "metadata": {},
   "outputs": [
    {
     "name": "stdout",
     "output_type": "stream",
     "text": [
      "0b100010\n",
      "0o42\n",
      "0x22\n"
     ]
    }
   ],
   "source": [
    "#6\n",
    "dec=34\n",
    "print(bin(dec))\n",
    "print(oct(dec))\n",
    "print(hex(dec))"
   ]
  },
  {
   "cell_type": "code",
   "execution_count": 20,
   "metadata": {},
   "outputs": [
    {
     "name": "stdout",
     "output_type": "stream",
     "text": [
      "15\n",
      "5\n",
      "50\n",
      "2.0\n",
      "2\n",
      "0\n",
      "100000\n"
     ]
    }
   ],
   "source": [
    "#7\n",
    "a=10\n",
    "b=5\n",
    "\n",
    "print(a+b)\n",
    "print(a-b)\n",
    "print(a*b)\n",
    "print(a/b)\n",
    "print(a//b)\n",
    "print(a%b)\n",
    "print(a**b)"
   ]
  },
  {
   "cell_type": "code",
   "execution_count": 21,
   "metadata": {},
   "outputs": [
    {
     "name": "stdout",
     "output_type": "stream",
     "text": [
      "15\n",
      "25\n",
      "15\n",
      "150\n",
      "15.0\n",
      "5.0\n",
      "9765625.0\n"
     ]
    }
   ],
   "source": [
    "#8\n",
    "a=10\n",
    "b=5\n",
    "c=a+b\n",
    "print(c)\n",
    "c+=a\n",
    "print(c)\n",
    "c-=a\n",
    "print(c)\n",
    "c*=a\n",
    "print(c)\n",
    "c/=a\n",
    "print(c)\n",
    "c%=a\n",
    "print(c)\n",
    "c**=a\n",
    "print(c)"
   ]
  },
  {
   "cell_type": "code",
   "execution_count": 22,
   "metadata": {},
   "outputs": [
    {
     "name": "stdout",
     "output_type": "stream",
     "text": [
      "a and b not equal\n",
      "a is greater b\n",
      "a is greaterthan or equal b\n"
     ]
    }
   ],
   "source": [
    "#9\n",
    "a=10\n",
    "b=5\n",
    "\n",
    "if a==b:\n",
    "    print('a and b are equal')\n",
    "if a!=b:\n",
    "     print('a and b not equal')\n",
    "if a>b:\n",
    "     print('a is greater b')\n",
    "if a<b:\n",
    "     print('a is lessthan b')\n",
    "if a>=b:\n",
    "    print('a is greaterthan or equal b')\n",
    "if a<=b:\n",
    "    print('a is lessthan or equal b')"
   ]
  },
  {
   "cell_type": "code",
   "execution_count": 23,
   "metadata": {},
   "outputs": [
    {
     "name": "stdout",
     "output_type": "stream",
     "text": [
      "x and y is 0\n",
      "x or y is 1\n",
      "x  not is False\n"
     ]
    }
   ],
   "source": [
    "#10\n",
    "x=1\n",
    "y=0\n",
    "b=True\n",
    "a=False\n",
    "print(\"x and y is\",x and y)\n",
    "print(\"x or y is\",x or y)\n",
    "print(\"x  not is\", not x)"
   ]
  },
  {
   "cell_type": "code",
   "execution_count": 24,
   "metadata": {},
   "outputs": [
    {
     "name": "stdout",
     "output_type": "stream",
     "text": [
      "8\n",
      "4\n",
      "12\n",
      "-9\n",
      "2\n",
      "128\n"
     ]
    }
   ],
   "source": [
    "#11\n",
    "a=8\n",
    "b=12\n",
    "print(a&b)\n",
    "print(a^b)\n",
    "print(a|b)\n",
    "print(~a)\n",
    "print(a>>2)\n",
    "print(a<<4)"
   ]
  },
  {
   "cell_type": "code",
   "execution_count": 25,
   "metadata": {},
   "outputs": [
    {
     "name": "stdout",
     "output_type": "stream",
     "text": [
      "False\n",
      "True\n",
      "False\n"
     ]
    }
   ],
   "source": [
    "#12\n",
    "x=\"akhila\"\n",
    "y={1:'m',2:'n'}\n",
    "print('H' in x)\n",
    "print(1 in y)\n",
    "print('m'in y)\n"
   ]
  },
  {
   "cell_type": "code",
   "execution_count": 26,
   "metadata": {},
   "outputs": [
    {
     "name": "stdout",
     "output_type": "stream",
     "text": [
      "False\n",
      "True\n",
      "True\n"
     ]
    }
   ],
   "source": [
    "#13\n",
    "x1=10\n",
    "y1=110\n",
    "x2=\"Hello\"\n",
    "y2=\"hello\"\n",
    "x3=[1,2,3]\n",
    "y3=[1,2]\n",
    "print(x1 is y1)\n",
    "print(x2 is not y2)\n",
    "print(x3 is not y3)\n"
   ]
  },
  {
   "cell_type": "code",
   "execution_count": 27,
   "metadata": {},
   "outputs": [
    {
     "name": "stdout",
     "output_type": "stream",
     "text": [
      "[5, 6]\n"
     ]
    }
   ],
   "source": [
    "#14\n",
    "l=[1,2,3,4,5,6,7]\n",
    "print(l[-3:-1])"
   ]
  },
  {
   "cell_type": "code",
   "execution_count": 28,
   "metadata": {},
   "outputs": [
    {
     "name": "stdout",
     "output_type": "stream",
     "text": [
      "r  o eonsdaidrca  is\n",
      "_________\n",
      "ot emoc\n"
     ]
    }
   ],
   "source": [
    "#15\n",
    "print('A series of characters designated as one object known as string ' [::-1][4::3])\n",
    "print('_________')\n",
    "print('welcome to the python training program'[3:10][::-1])"
   ]
  },
  {
   "cell_type": "code",
   "execution_count": 29,
   "metadata": {},
   "outputs": [
    {
     "name": "stdout",
     "output_type": "stream",
     "text": [
      "WAS IT A CAR OR A CAT I SAW\n"
     ]
    }
   ],
   "source": [
    "#16\n",
    "p_phrase=\"was it a car or a cat I saw\"\n",
    "print(p_phrase.upper())"
   ]
  },
  {
   "cell_type": "markdown",
   "metadata": {},
   "source": []
  },
  {
   "cell_type": "code",
   "execution_count": 31,
   "metadata": {},
   "outputs": [
    {
     "name": "stdout",
     "output_type": "stream",
     "text": [
      "3\n",
      "ZZZOOOOOO"
     ]
    }
   ],
   "source": [
    "#17\n",
    "\n",
    "a='ZOO'\n",
    "i=0\n",
    "Z=a.count('Z')\n",
    "O=a.count('O')\n",
    "x=int(input())\n",
    "y=x*2\n",
    "for i in range(x):\n",
    "    i=i+1\n",
    "    print('Z',end='')\n",
    "for i in range(y):\n",
    "    i=i+1\n",
    "    print('O',end='')"
   ]
  },
  {
   "cell_type": "code",
   "execution_count": null,
   "metadata": {},
   "outputs": [],
   "source": []
  },
  {
   "cell_type": "code",
   "execution_count": null,
   "metadata": {},
   "outputs": [],
   "source": []
  },
  {
   "cell_type": "code",
   "execution_count": null,
   "metadata": {},
   "outputs": [],
   "source": []
  },
  {
   "cell_type": "code",
   "execution_count": null,
   "metadata": {},
   "outputs": [],
   "source": []
  }
 ],
 "metadata": {
  "kernelspec": {
   "display_name": "Python 3",
   "language": "python",
   "name": "python3"
  },
  "language_info": {
   "codemirror_mode": {
    "name": "ipython",
    "version": 3
   },
   "file_extension": ".py",
   "mimetype": "text/x-python",
   "name": "python",
   "nbconvert_exporter": "python",
   "pygments_lexer": "ipython3",
   "version": "3.8.5"
  }
 },
 "nbformat": 4,
 "nbformat_minor": 4
}
